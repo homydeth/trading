{
 "cells": [
  {
   "cell_type": "code",
   "execution_count": 132,
   "metadata": {
    "collapsed": false,
    "scrolled": false,
    "slideshow": {
     "slide_type": "skip"
    }
   },
   "outputs": [
    {
     "data": {
      "text/html": [
       "<script>jQuery(function() {if (jQuery(\"body.notebook_app\").length == 0) { jQuery(\".input_area\").toggle(); jQuery(\".prompt\").toggle();}});</script>"
      ]
     },
     "metadata": {},
     "output_type": "display_data"
    },
    {
     "data": {
      "text/html": [
       "<button onclick=\"jQuery('.input_area').toggle(); jQuery('.prompt').toggle();\">Toggle code</button>"
      ]
     },
     "metadata": {},
     "output_type": "display_data"
    }
   ],
   "source": [
    "from IPython.display import display\n",
    "from IPython.core.display import HTML \n",
    "import IPython.core.display as di # Example: di.display_html('<h3>%s:</h3>' % str, raw=True)\n",
    "\n",
    "# This line will hide code by default when the notebook is exported as HTML\n",
    "di.display_html('<script>jQuery(function() {if (jQuery(\"body.notebook_app\").length == 0) { jQuery(\".input_area\").toggle(); jQuery(\".prompt\").toggle();}});</script>', raw=True)\n",
    "\n",
    "# This line will add a button to toggle visibility of code blocks, for use with the HTML export version\n",
    "di.display_html('''<button onclick=\"jQuery('.input_area').toggle(); jQuery('.prompt').toggle();\">Toggle code</button>''', raw=True)\n",
    " \n",
    "import sqlite3\n",
    "import pandas as pd\n",
    "import numpy as np\n",
    "from ipywidgets import *\n",
    "\n",
    "import os\n",
    "from os import listdir\n",
    "from os.path import isfile, join\n",
    "\n",
    "\n",
    "import plotly\n",
    "from plotly import __version__\n",
    "from plotly.offline import download_plotlyjs, init_notebook_mode, iplot\n",
    "import plotly.graph_objs as go\n",
    "from plotly import tools\n",
    "init_notebook_mode()\n",
    "pd.set_option('mode.chained_assignment',None)"
   ]
  },
  {
   "cell_type": "code",
   "execution_count": 51,
   "metadata": {
    "collapsed": true
   },
   "outputs": [],
   "source": [
    "con = sqlite3.connect('ASX.db')\n",
    "cur = con.cursor()"
   ]
  },
  {
   "cell_type": "code",
   "execution_count": 52,
   "metadata": {
    "collapsed": true
   },
   "outputs": [],
   "source": [
    "def add_atr_to_dataframe(dataframe, periods):\n",
    "    dataframe['TR1'] = abs (dataframe['high'] - dataframe['low'])\n",
    "    dataframe['TR2'] = abs (dataframe['high'] - dataframe['close'].shift())\n",
    "    dataframe['TR3'] = abs (dataframe['low'] - dataframe['close'].shift())\n",
    "    dataframe['TrueRange'] = dataframe[['TR1', 'TR2', 'TR3']].max(axis=1)\n",
    "    dataframe['ATR'] = df[\"TrueRange\"].rolling(periods).mean()\n",
    "    "
   ]
  },
  {
   "cell_type": "code",
   "execution_count": 53,
   "metadata": {
    "collapsed": true
   },
   "outputs": [],
   "source": [
    "def HHV(series, days):\n",
    "    '''returns the highest value for the series in the last n days'''\n",
    "    hhv = series.rolling(window=days,center=False).max().shift()\n",
    "    return hhv"
   ]
  },
  {
   "cell_type": "code",
   "execution_count": 54,
   "metadata": {
    "collapsed": true
   },
   "outputs": [],
   "source": [
    "def LLV(series, days):\n",
    "    '''returns the lowest value for the series in the last n days'''\n",
    "    llv = series.rolling(window=days,center=False).min().shift()\n",
    "    return llv"
   ]
  },
  {
   "cell_type": "code",
   "execution_count": null,
   "metadata": {
    "collapsed": true
   },
   "outputs": [],
   "source": [
    "def daterange(start_date, end_date):\n",
    "    for n in range(int ((end_date - start_date).days + 1)):\n",
    "        yield start_date + datetime.timedelta(n)"
   ]
  },
  {
   "cell_type": "code",
   "execution_count": 78,
   "metadata": {
    "collapsed": true
   },
   "outputs": [],
   "source": [
    "def get_stock_from_db(con, stock, start_date, end_date):\n",
    "    stock = stock.upper()\n",
    "    query = '''SELECT *\n",
    "    FROM stocks\n",
    "    WHERE Symbol = '%s'\n",
    "    AND (substr(date, 1, 4) || '-' || substr(date, 5, 2) || '-' || substr(date, 7)) BETWEEN '%s' AND '%s'\n",
    "    ''' % (stock, start_date, end_date)\n",
    "    df = pd.read_sql_query(query, con)\n",
    "    df['date'] = pd.to_datetime(df['date'], format='%Y%m%d')\n",
    "    \n",
    "    return df"
   ]
  },
  {
   "cell_type": "code",
   "execution_count": 253,
   "metadata": {
    "collapsed": true
   },
   "outputs": [],
   "source": [
    "def add_indicators(df, atr_days, highest_days, lowest_days, sma1_days, sma2_days, sma3_days):\n",
    "    \n",
    "    add_atr_to_dataframe(df, atr_days)\n",
    "    \n",
    "    #Set the number of days for the highest high (top of the Donchian channel)\n",
    "    df['HHV'] = HHV(df['close'], highest_days)\n",
    "    \n",
    "    #Set the number of days for the lowest low (bottom of the Donchian channel)\n",
    "    df['LLV'] = LLV(df['close'], lowest_days)\n",
    "    \n",
    "    #set the moving averages\n",
    "    df['SMA1'] = df[\"close\"].rolling(sma1_days).mean()\n",
    "    df['SMA2'] = df[\"close\"].rolling(sma2_days).mean()\n",
    "    df['SMA3'] = df[\"close\"].rolling(sma3_days).mean()\n",
    "    \n",
    "    #add daily rate of change\n",
    "    df['daily_roc'] = df['close'].pct_change()\n",
    "\n",
    "    #add weekly rate of change\n",
    "    df['weekly_roc'] = df['close'].pct_change(periods=5)\n",
    "    \n",
    "    #add daily change in MAs\n",
    "    df['SMA1_daily_roc'] = df['SMA1'].pct_change()\n",
    "    df['SMA2_daily_roc'] = df['SMA2'].pct_change()\n",
    "    df['SMA3_daily_roc'] = df['SMA3'].pct_change()\n",
    "    \n",
    "    #add weekly change in MAs\n",
    "    df['SMA1_weekly_roc'] = df['SMA1'].pct_change(periods=5)\n",
    "    df['SMA2_weekly_roc'] = df['SMA2'].pct_change(periods=5)\n",
    "    df['SMA3_weekly_roc'] = df['SMA3'].pct_change(periods=5)"
   ]
  },
  {
   "cell_type": "code",
   "execution_count": 280,
   "metadata": {
    "collapsed": true
   },
   "outputs": [],
   "source": [
    "def add_trade_triggers(df):\n",
    "    '''code your entry and exit conditions in this function'''\n",
    "    #entry conditions for a long trade\n",
    "    df['long_entry'] = (df['close'] > df['HHV']) & (df['SMA3_weekly_roc'] > 0)\n",
    "    \n",
    "    #exit conditions for a long trade\n",
    "    df['long_exit'] = (df['close'] < df['SMA3'])"
   ]
  },
  {
   "cell_type": "code",
   "execution_count": 281,
   "metadata": {
    "collapsed": true
   },
   "outputs": [],
   "source": [
    "def add_trade_state(df):\n",
    "\n",
    "    in_trade = False\n",
    "    trade_states = []\n",
    "    for index, row in df.iterrows():\n",
    "        if row['long_entry'] and not row['long_exit']:\n",
    "            in_trade = True\n",
    "\n",
    "        trade_states.append(in_trade)\n",
    "\n",
    "        if in_trade and row['long_exit']:\n",
    "            in_trade = False\n",
    "        \n",
    "    df['in_trade'] = trade_states"
   ]
  },
  {
   "cell_type": "code",
   "execution_count": 397,
   "metadata": {
    "collapsed": false
   },
   "outputs": [],
   "source": [
    "def create_trade_db(df):\n",
    "    \n",
    "    entries = df[df['long_entry'].shift() == True][['symbol', 'date', 'open']]\n",
    "    exits = df[(df['long_exit'].shift() == True) & (df['in_trade'].shift() == True)][['symbol', 'date', 'open']]\n",
    "    trades = entries\n",
    "    \n",
    "    exit_dates = []\n",
    "    exit_prices = []\n",
    "\n",
    "    for index, row in entries.iterrows():\n",
    "        try:\n",
    "            exit_dates.append(exits[exits['date'] > row['date']]['date'].iloc[0])\n",
    "        except:\n",
    "            exit_dates.append('NaN')\n",
    "\n",
    "        try:\n",
    "            exit_prices.append(exits[exits['date'] > row['date']]['open'].iloc[0])\n",
    "        except:\n",
    "            exit_prices.append('NaN')\n",
    "            \n",
    "    trades.rename(columns={'symbol': 'Symbol', 'date': 'Entry_Date', 'open': 'Entry_Price'},inplace=True)\n",
    "    trades['stop_loss'] = ''\n",
    "    trades['initial_risk'] = ''\n",
    "    trades['Exit_Date'] = exit_dates\n",
    "    trades['Exit_Price'] = exit_prices\n",
    "    trades.dropna(inplace=True)\n",
    "    \n",
    "    return trades"
   ]
  },
  {
   "cell_type": "code",
   "execution_count": 350,
   "metadata": {
    "collapsed": true
   },
   "outputs": [],
   "source": [
    "#set the start and end dates \n",
    "start_date = '2010-01-01'\n",
    "end_date = '2016-12-31'"
   ]
  },
  {
   "cell_type": "code",
   "execution_count": 384,
   "metadata": {
    "collapsed": false
   },
   "outputs": [],
   "source": [
    "highest_days = 65\n",
    "lowest_days = 20\n",
    "sma1_days = 20\n",
    "sma2_days = 50\n",
    "sma3_days = 150\n",
    "atr_days = 15"
   ]
  },
  {
   "cell_type": "code",
   "execution_count": 402,
   "metadata": {
    "collapsed": true
   },
   "outputs": [],
   "source": [
    "stocks = ['BHP', 'ASX', 'CBA', 'anz']"
   ]
  },
  {
   "cell_type": "code",
   "execution_count": 403,
   "metadata": {
    "collapsed": true
   },
   "outputs": [],
   "source": [
    "trades = pd.DataFrame()"
   ]
  },
  {
   "cell_type": "code",
   "execution_count": 404,
   "metadata": {
    "collapsed": false
   },
   "outputs": [],
   "source": [
    "for stock in stocks:\n",
    "    df = get_stock_from_db(con, stock, start_date, end_date)\n",
    "    add_indicators(df, atr_days, highest_days, lowest_days, sma1_days, sma2_days, sma3_days)\n",
    "    add_trade_triggers(df)\n",
    "    add_trade_state(df)\n",
    "    #print df.head()\n",
    "    temp_df = create_trade_db(df)\n",
    "    #print temp_df.head()\n",
    "    trades = trades.append(temp_df)"
   ]
  },
  {
   "cell_type": "code",
   "execution_count": 405,
   "metadata": {
    "collapsed": false
   },
   "outputs": [
    {
     "data": {
      "text/html": [
       "<div>\n",
       "<table border=\"1\" class=\"dataframe\">\n",
       "  <thead>\n",
       "    <tr style=\"text-align: right;\">\n",
       "      <th></th>\n",
       "      <th>Symbol</th>\n",
       "      <th>Entry_Date</th>\n",
       "      <th>Entry_Price</th>\n",
       "      <th>stop_loss</th>\n",
       "      <th>initial_risk</th>\n",
       "      <th>Exit_Date</th>\n",
       "      <th>Exit_Price</th>\n",
       "    </tr>\n",
       "  </thead>\n",
       "  <tbody>\n",
       "    <tr>\n",
       "      <th>239</th>\n",
       "      <td>BHP</td>\n",
       "      <td>2010-12-10</td>\n",
       "      <td>45.30</td>\n",
       "      <td></td>\n",
       "      <td></td>\n",
       "      <td>2011-03-16</td>\n",
       "      <td>43.52</td>\n",
       "    </tr>\n",
       "    <tr>\n",
       "      <th>242</th>\n",
       "      <td>BHP</td>\n",
       "      <td>2010-12-15</td>\n",
       "      <td>45.48</td>\n",
       "      <td></td>\n",
       "      <td></td>\n",
       "      <td>2011-03-16</td>\n",
       "      <td>43.52</td>\n",
       "    </tr>\n",
       "    <tr>\n",
       "      <th>248</th>\n",
       "      <td>BHP</td>\n",
       "      <td>2010-12-23</td>\n",
       "      <td>45.96</td>\n",
       "      <td></td>\n",
       "      <td></td>\n",
       "      <td>2011-03-16</td>\n",
       "      <td>43.52</td>\n",
       "    </tr>\n",
       "    <tr>\n",
       "      <th>249</th>\n",
       "      <td>BHP</td>\n",
       "      <td>2010-12-24</td>\n",
       "      <td>46.17</td>\n",
       "      <td></td>\n",
       "      <td></td>\n",
       "      <td>2011-03-16</td>\n",
       "      <td>43.52</td>\n",
       "    </tr>\n",
       "    <tr>\n",
       "      <th>276</th>\n",
       "      <td>BHP</td>\n",
       "      <td>2011-02-07</td>\n",
       "      <td>46.44</td>\n",
       "      <td></td>\n",
       "      <td></td>\n",
       "      <td>2011-03-16</td>\n",
       "      <td>43.52</td>\n",
       "    </tr>\n",
       "  </tbody>\n",
       "</table>\n",
       "</div>"
      ],
      "text/plain": [
       "    Symbol Entry_Date  Entry_Price stop_loss initial_risk  Exit_Date  \\\n",
       "239    BHP 2010-12-10        45.30                        2011-03-16   \n",
       "242    BHP 2010-12-15        45.48                        2011-03-16   \n",
       "248    BHP 2010-12-23        45.96                        2011-03-16   \n",
       "249    BHP 2010-12-24        46.17                        2011-03-16   \n",
       "276    BHP 2011-02-07        46.44                        2011-03-16   \n",
       "\n",
       "    Exit_Price  \n",
       "239      43.52  \n",
       "242      43.52  \n",
       "248      43.52  \n",
       "249      43.52  \n",
       "276      43.52  "
      ]
     },
     "execution_count": 405,
     "metadata": {},
     "output_type": "execute_result"
    }
   ],
   "source": [
    "trades.head()"
   ]
  },
  {
   "cell_type": "code",
   "execution_count": 406,
   "metadata": {
    "collapsed": false
   },
   "outputs": [],
   "source": [
    "trades.to_csv(path_or_buf=join('C:\\Users\\Aaron\\Documents\\Trading', 'trade_db.csv'), index=False, mode='w')"
   ]
  },
  {
   "cell_type": "code",
   "execution_count": null,
   "metadata": {
    "collapsed": true
   },
   "outputs": [],
   "source": []
  }
 ],
 "metadata": {
  "anaconda-cloud": {},
  "kernelspec": {
   "display_name": "Python [default]",
   "language": "python",
   "name": "python2"
  },
  "language_info": {
   "codemirror_mode": {
    "name": "ipython",
    "version": 2
   },
   "file_extension": ".py",
   "mimetype": "text/x-python",
   "name": "python",
   "nbconvert_exporter": "python",
   "pygments_lexer": "ipython2",
   "version": "2.7.13"
  }
 },
 "nbformat": 4,
 "nbformat_minor": 0
}
