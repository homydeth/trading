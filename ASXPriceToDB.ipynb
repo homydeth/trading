{
 "cells": [
  {
   "cell_type": "code",
   "execution_count": 1,
   "metadata": {
    "collapsed": false,
    "scrolled": false,
    "slideshow": {
     "slide_type": "skip"
    }
   },
   "outputs": [
    {
     "data": {
      "text/html": [
       "<script>jQuery(function() {if (jQuery(\"body.notebook_app\").length == 0) { jQuery(\".input_area\").toggle(); jQuery(\".prompt\").toggle();}});</script>"
      ]
     },
     "metadata": {},
     "output_type": "display_data"
    },
    {
     "data": {
      "text/html": [
       "<button onclick=\"jQuery('.input_area').toggle(); jQuery('.prompt').toggle();\">Toggle code</button>"
      ]
     },
     "metadata": {},
     "output_type": "display_data"
    }
   ],
   "source": [
    "from IPython.display import display\n",
    "from IPython.core.display import HTML \n",
    "import IPython.core.display as di # Example: di.display_html('<h3>%s:</h3>' % str, raw=True)\n",
    "\n",
    "# This line will hide code by default when the notebook is exported as HTML\n",
    "di.display_html('<script>jQuery(function() {if (jQuery(\"body.notebook_app\").length == 0) { jQuery(\".input_area\").toggle(); jQuery(\".prompt\").toggle();}});</script>', raw=True)\n",
    "\n",
    "# This line will add a button to toggle visibility of code blocks, for use with the HTML export version\n",
    "di.display_html('''<button onclick=\"jQuery('.input_area').toggle(); jQuery('.prompt').toggle();\">Toggle code</button>''', raw=True)\n",
    " \n",
    "\n",
    "import pandas as pd\n",
    "import numpy as np\n",
    "import sqlite3\n",
    "import unicodecsv as csv\n",
    "import os\n",
    "from os import listdir\n",
    "from os.path import isdir, isfile, join\n"
   ]
  },
  {
   "cell_type": "code",
   "execution_count": 2,
   "metadata": {
    "collapsed": false
   },
   "outputs": [],
   "source": [
    "con = sqlite3.connect('ASX.db')\n",
    "cur = con.cursor()"
   ]
  },
  {
   "cell_type": "code",
   "execution_count": 3,
   "metadata": {
    "collapsed": false
   },
   "outputs": [
    {
     "data": {
      "text/plain": [
       "<sqlite3.Cursor at 0x6917ea0>"
      ]
     },
     "execution_count": 3,
     "metadata": {},
     "output_type": "execute_result"
    }
   ],
   "source": [
    "cur.execute('''CREATE TABLE IF NOT EXISTS stocks\n",
    "             (symbol TEXT, date INTEGER, open REAL, high REAL, low REAL, close REAL, volume INTEGER)''')\n"
   ]
  },
  {
   "cell_type": "code",
   "execution_count": 4,
   "metadata": {
    "collapsed": false
   },
   "outputs": [],
   "source": [
    "def write_many_to_db(cur, con, tablename, rows):\n",
    "\n",
    "        if rows:\n",
    "            numfields = len(rows[0])\n",
    "\n",
    "            for attempt in range(0,3):\n",
    "\n",
    "                try:\n",
    "                    parameterisedquery = \"INSERT INTO \" + tablename + \" VALUES(\" + ','.join(['?']*numfields) + \")\"\n",
    "                    cur.executemany(parameterisedquery, rows)\n",
    "                    con.commit()\n",
    "                    #print len(rows), 'rows added to ', tablename\n",
    "                    break\n",
    "\n",
    "                except Exception as err:\n",
    "                    print rows\n",
    "                    raise err\n",
    "\n",
    "            else:\n",
    "                raise Exception()"
   ]
  },
  {
   "cell_type": "code",
   "execution_count": 5,
   "metadata": {
    "collapsed": false
   },
   "outputs": [],
   "source": [
    "file_path = r'C:\\Users\\Aaron\\Documents\\Share Price Data\\Raw'\n",
    "folders = [f for f in listdir(file_path) if isdir(join(file_path, f))]"
   ]
  },
  {
   "cell_type": "code",
   "execution_count": 6,
   "metadata": {
    "collapsed": false
   },
   "outputs": [
    {
     "name": "stdout",
     "output_type": "stream",
     "text": [
      "['1997', '1998', '1999', '2000', '2001', '2002', '2003', '2004', '2005', '2006', '2007 - 2008', '2009', '2010', '2011', '2012', '2013', '2014', '2015', '2016']\n"
     ]
    }
   ],
   "source": [
    "print folders"
   ]
  },
  {
   "cell_type": "code",
   "execution_count": 7,
   "metadata": {
    "collapsed": false
   },
   "outputs": [
    {
     "name": "stdout",
     "output_type": "stream",
     "text": [
      "246\n",
      "496\n",
      "751\n",
      "1004\n",
      "1252\n",
      "1505\n",
      "1758\n",
      "2013\n",
      "2266\n",
      "2518\n",
      "3023\n",
      "3276\n",
      "3529\n",
      "3781\n",
      "4034\n",
      "4287\n",
      "4540\n",
      "4794\n",
      "5034\n"
     ]
    }
   ],
   "source": [
    "filelist = []\n",
    "for folder in folders:\n",
    "    files = [f for f in listdir(join(file_path, folder)) if isfile(join(file_path, folder, f))]\n",
    "    for filename in files:\n",
    "        #filename = filename.lower()\n",
    "        if 'txt' in filename.lower():\n",
    "            filelist.append(join(file_path, folder, filename))\n",
    "    print len(filelist)"
   ]
  },
  {
   "cell_type": "code",
   "execution_count": 8,
   "metadata": {
    "collapsed": false
   },
   "outputs": [
    {
     "name": "stdout",
     "output_type": "stream",
     "text": [
      "6039511 rows added to database\n"
     ]
    }
   ],
   "source": [
    "rowcount = 0\n",
    "for pricefile in filelist:\n",
    "    with open(pricefile, 'rb') as data:\n",
    "\n",
    "        csvreader = csv.reader(data, delimiter=',', quotechar='\"')\n",
    "\n",
    "        rows = [row for row in csvreader]\n",
    "\n",
    "        rowsfordb = []\n",
    "        for row in rows:\n",
    "            if len(row[0]) <= 3:\n",
    "                if float(row[3]) < max(float(row[2]), float(row[4]), float(row[5])):\n",
    "                    row[3] = max(float(row[2]), float(row[4]), float(row[5]))\n",
    "                if float(row[4]) < min(float(row[2]), float(row[3]), float(row[5])):\n",
    "                    row[4] = min(float(row[2]), float(row[3]), float(row[5]))\n",
    "                rowsfordb.append(row)\n",
    "        write_many_to_db(cur, con, 'stocks', rowsfordb)\n",
    "        rowcount += len(rowsfordb)\n",
    "        \n",
    "print rowcount, 'rows added to database'"
   ]
  },
  {
   "cell_type": "code",
   "execution_count": 9,
   "metadata": {
    "collapsed": false
   },
   "outputs": [
    {
     "name": "stdout",
     "output_type": "stream",
     "text": [
      "Input a stock code: BHP\n"
     ]
    }
   ],
   "source": [
    "stock = raw_input('Input a stock code: ')"
   ]
  },
  {
   "cell_type": "code",
   "execution_count": 10,
   "metadata": {
    "collapsed": false
   },
   "outputs": [],
   "source": [
    "query = '''SELECT *\n",
    "FROM stocks\n",
    "WHERE Symbol = '%s'\n",
    "AND date BETWEEN '20100101' AND '20161130'\n",
    "''' % stock"
   ]
  },
  {
   "cell_type": "code",
   "execution_count": 11,
   "metadata": {
    "collapsed": false
   },
   "outputs": [],
   "source": [
    "df = pd.read_sql_query(query, con)"
   ]
  },
  {
   "cell_type": "code",
   "execution_count": 12,
   "metadata": {
    "collapsed": false
   },
   "outputs": [
    {
     "data": {
      "text/html": [
       "<div>\n",
       "<table border=\"1\" class=\"dataframe\">\n",
       "  <thead>\n",
       "    <tr style=\"text-align: right;\">\n",
       "      <th></th>\n",
       "      <th>symbol</th>\n",
       "      <th>date</th>\n",
       "      <th>open</th>\n",
       "      <th>high</th>\n",
       "      <th>low</th>\n",
       "      <th>close</th>\n",
       "      <th>volume</th>\n",
       "    </tr>\n",
       "  </thead>\n",
       "  <tbody>\n",
       "    <tr>\n",
       "      <th>0</th>\n",
       "      <td>BHP</td>\n",
       "      <td>20100104</td>\n",
       "      <td>42.75</td>\n",
       "      <td>43.26</td>\n",
       "      <td>42.75</td>\n",
       "      <td>43.08</td>\n",
       "      <td>3691070</td>\n",
       "    </tr>\n",
       "    <tr>\n",
       "      <th>1</th>\n",
       "      <td>BHP</td>\n",
       "      <td>20100105</td>\n",
       "      <td>43.50</td>\n",
       "      <td>43.64</td>\n",
       "      <td>43.28</td>\n",
       "      <td>43.28</td>\n",
       "      <td>9104798</td>\n",
       "    </tr>\n",
       "    <tr>\n",
       "      <th>2</th>\n",
       "      <td>BHP</td>\n",
       "      <td>20100106</td>\n",
       "      <td>43.51</td>\n",
       "      <td>43.85</td>\n",
       "      <td>43.51</td>\n",
       "      <td>43.82</td>\n",
       "      <td>6349781</td>\n",
       "    </tr>\n",
       "    <tr>\n",
       "      <th>3</th>\n",
       "      <td>BHP</td>\n",
       "      <td>20100107</td>\n",
       "      <td>43.91</td>\n",
       "      <td>44.14</td>\n",
       "      <td>43.77</td>\n",
       "      <td>43.77</td>\n",
       "      <td>6641602</td>\n",
       "    </tr>\n",
       "    <tr>\n",
       "      <th>4</th>\n",
       "      <td>BHP</td>\n",
       "      <td>20100108</td>\n",
       "      <td>43.69</td>\n",
       "      <td>43.87</td>\n",
       "      <td>43.62</td>\n",
       "      <td>43.62</td>\n",
       "      <td>4512798</td>\n",
       "    </tr>\n",
       "  </tbody>\n",
       "</table>\n",
       "</div>"
      ],
      "text/plain": [
       "  symbol      date   open   high    low  close   volume\n",
       "0    BHP  20100104  42.75  43.26  42.75  43.08  3691070\n",
       "1    BHP  20100105  43.50  43.64  43.28  43.28  9104798\n",
       "2    BHP  20100106  43.51  43.85  43.51  43.82  6349781\n",
       "3    BHP  20100107  43.91  44.14  43.77  43.77  6641602\n",
       "4    BHP  20100108  43.69  43.87  43.62  43.62  4512798"
      ]
     },
     "execution_count": 12,
     "metadata": {},
     "output_type": "execute_result"
    }
   ],
   "source": [
    "df.head()"
   ]
  },
  {
   "cell_type": "code",
   "execution_count": null,
   "metadata": {
    "collapsed": true
   },
   "outputs": [],
   "source": []
  },
  {
   "cell_type": "code",
   "execution_count": null,
   "metadata": {
    "collapsed": true
   },
   "outputs": [],
   "source": []
  }
 ],
 "metadata": {
  "kernelspec": {
   "display_name": "Python 2",
   "language": "python",
   "name": "python2"
  },
  "language_info": {
   "codemirror_mode": {
    "name": "ipython",
    "version": 2
   },
   "file_extension": ".py",
   "mimetype": "text/x-python",
   "name": "python",
   "nbconvert_exporter": "python",
   "pygments_lexer": "ipython2",
   "version": "2.7.11"
  }
 },
 "nbformat": 4,
 "nbformat_minor": 0
}
